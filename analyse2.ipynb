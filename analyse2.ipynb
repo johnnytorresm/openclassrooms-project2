{
 "cells": [
  {
   "cell_type": "code",
   "execution_count": 72,
   "metadata": {},
   "outputs": [],
   "source": [
    "#\n",
    "# Librairies\n",
    "#\n",
    "import pandas as pd # On importe la librairie Pandas, que l'on surnomme 'pd' \\n\n",
    "import numpy as np\n",
    "import matplotlib.pyplot as plt\n",
    "import seaborn as sns\n",
    "\n",
    "%matplotlib inline"
   ]
  },
  {
   "cell_type": "code",
   "execution_count": 73,
   "metadata": {},
   "outputs": [
    {
     "data": {
      "text/plain": [
       "(6540, 69)"
      ]
     },
     "execution_count": 73,
     "metadata": {},
     "output_type": "execute_result"
    }
   ],
   "source": [
    "# \n",
    "# chargement du fichier fr2.openfoodfacts.products.csv\n",
    "#\n",
    "# Le fichier est placé dans le repertoire courant. \n",
    "#\n",
    "# Le fichier contient uniquement des produits vendus en France\n",
    "#\n",
    "datafr = pd.read_csv('fr2.openfoodfacts.products.csv', sep=',', dtype = {'code':str,\n",
    "                                                                         'product_name':str, \n",
    "                                                                         'nutriscore_score': float, \n",
    "                                                                         'energy-kcal_100g': float}\n",
    "                      )\n",
    "# \n",
    "# \n",
    "#\n",
    "datafr.shape"
   ]
  },
  {
   "cell_type": "code",
   "execution_count": 5,
   "metadata": {},
   "outputs": [
    {
     "name": "stdout",
     "output_type": "stream",
     "text": [
      "code                                        object\n",
      "product_name                                object\n",
      "quantity                                    object\n",
      "packaging                                   object\n",
      "brands                                      object\n",
      "                                            ...   \n",
      "fruits-vegetables-nuts_100g                float64\n",
      "fruits-vegetables-nuts-estimate_100g       float64\n",
      "cocoa_100g                                 float64\n",
      "carbon-footprint-from-meat-or-fish_100g    float64\n",
      "nutrition-score-fr_100g                    float64\n",
      "Length: 69, dtype: object\n"
     ]
    }
   ],
   "source": [
    "print(datafr.dtypes) "
   ]
  },
  {
   "cell_type": "code",
   "execution_count": 6,
   "metadata": {},
   "outputs": [
    {
     "name": "stdout",
     "output_type": "stream",
     "text": [
      "<class 'pandas.core.frame.DataFrame'>\n",
      "RangeIndex: 6540 entries, 0 to 6539\n",
      "Data columns (total 69 columns):\n",
      " #   Column                                   Non-Null Count  Dtype  \n",
      "---  ------                                   --------------  -----  \n",
      " 0   code                                     6540 non-null   object \n",
      " 1   product_name                             6245 non-null   object \n",
      " 2   quantity                                 1718 non-null   object \n",
      " 3   packaging                                915 non-null    object \n",
      " 4   brands                                   3585 non-null   object \n",
      " 5   categories                               2080 non-null   object \n",
      " 6   origins                                  157 non-null    object \n",
      " 7   labels                                   1359 non-null   object \n",
      " 8   countries                                6540 non-null   object \n",
      " 9   ingredients_text                         1835 non-null   object \n",
      " 10  allergens                                517 non-null    object \n",
      " 11  traces                                   253 non-null    object \n",
      " 12  serving_size                             779 non-null    object \n",
      " 13  ingredients_from_palm_oil_n              1835 non-null   float64\n",
      " 14  ingredients_that_may_be_from_palm_oil_n  1835 non-null   float64\n",
      " 15  nutriscore_score                         1685 non-null   float64\n",
      " 16  nutriscore_grade                         1685 non-null   object \n",
      " 17  nova_group                               1351 non-null   float64\n",
      " 18  pnns_groups_1                            6512 non-null   object \n",
      " 19  pnns_groups_2                            6540 non-null   object \n",
      " 20  main_category                            2080 non-null   object \n",
      " 21  energy-kcal_100g                         5151 non-null   float64\n",
      " 22  energy_100g                              5293 non-null   float64\n",
      " 23  energy-from-fat_100g                     41 non-null     float64\n",
      " 24  fat_100g                                 5236 non-null   float64\n",
      " 25  saturated-fat_100g                       5252 non-null   float64\n",
      " 26  monounsaturated-fat_100g                 62 non-null     float64\n",
      " 27  polyunsaturated-fat_100g                 62 non-null     float64\n",
      " 28  omega-3-fat_100g                         2 non-null      float64\n",
      " 29  trans-fat_100g                           270 non-null    float64\n",
      " 30  cholesterol_100g                         251 non-null    float64\n",
      " 31  carbohydrates_100g                       5225 non-null   float64\n",
      " 32  sugars_100g                              5258 non-null   float64\n",
      " 33  starch_100g                              4 non-null      float64\n",
      " 34  polyols_100g                             3 non-null      float64\n",
      " 35  fiber_100g                               1451 non-null   float64\n",
      " 36  proteins_100g                            5267 non-null   float64\n",
      " 37  salt_100g                                5144 non-null   float64\n",
      " 38  sodium_100g                              5144 non-null   float64\n",
      " 39  alcohol_100g                             51 non-null     float64\n",
      " 40  vitamin-a_100g                           230 non-null    float64\n",
      " 41  vitamin-d_100g                           34 non-null     float64\n",
      " 42  vitamin-e_100g                           10 non-null     float64\n",
      " 43  vitamin-k_100g                           2 non-null      float64\n",
      " 44  vitamin-c_100g                           250 non-null    float64\n",
      " 45  vitamin-b1_100g                          37 non-null     float64\n",
      " 46  vitamin-b2_100g                          29 non-null     float64\n",
      " 47  vitamin-pp_100g                          47 non-null     float64\n",
      " 48  vitamin-b6_100g                          27 non-null     float64\n",
      " 49  vitamin-b9_100g                          18 non-null     float64\n",
      " 50  folates_100g                             6 non-null      float64\n",
      " 51  vitamin-b12_100g                         19 non-null     float64\n",
      " 52  pantothenic-acid_100g                    4 non-null      float64\n",
      " 53  bicarbonate_100g                         1 non-null      float64\n",
      " 54  potassium_100g                           76 non-null     float64\n",
      " 55  calcium_100g                             248 non-null    float64\n",
      " 56  phosphorus_100g                          25 non-null     float64\n",
      " 57  iron_100g                                249 non-null    float64\n",
      " 58  magnesium_100g                           30 non-null     float64\n",
      " 59  zinc_100g                                14 non-null     float64\n",
      " 60  copper_100g                              7 non-null      float64\n",
      " 61  manganese_100g                           7 non-null      float64\n",
      " 62  selenium_100g                            2 non-null      float64\n",
      " 63  caffeine_100g                            1 non-null      float64\n",
      " 64  fruits-vegetables-nuts_100g              16 non-null     float64\n",
      " 65  fruits-vegetables-nuts-estimate_100g     44 non-null     float64\n",
      " 66  cocoa_100g                               21 non-null     float64\n",
      " 67  carbon-footprint-from-meat-or-fish_100g  37 non-null     float64\n",
      " 68  nutrition-score-fr_100g                  1685 non-null   float64\n",
      "dtypes: float64(52), object(17)\n",
      "memory usage: 3.0+ MB\n",
      "None\n"
     ]
    }
   ],
   "source": [
    "print(datafr.info())"
   ]
  },
  {
   "cell_type": "code",
   "execution_count": 7,
   "metadata": {},
   "outputs": [
    {
     "data": {
      "text/plain": [
       "<seaborn.axisgrid.PairGrid at 0xd5d7790>"
      ]
     },
     "execution_count": 7,
     "metadata": {},
     "output_type": "execute_result"
    },
    {
     "data": {
      "image/png": "[encoded data removed]",
      "text/plain": [
       "<Figure size 180x360 with 2 Axes>"
      ]
     },
     "metadata": {
      "needs_background": "light"
     },
     "output_type": "display_data"
    }
   ],
   "source": [
    "#\n",
    "# Analyse bivariée préliminaire nutriscore_score et nutrition-score-fr_100g\n",
    "#\n",
    "#\n",
    "sns.pairplot(datafr, x_vars=[\"nutriscore_grade\"], y_vars=[\"nutriscore_score\", \"nutrition-score-fr_100g\"])\n",
    "\n",
    "#\n",
    "# Cela me confirme que ces deux colonnes contiennent la même information et sont donc redondantes.\n",
    "#"
   ]
  },
  {
   "cell_type": "code",
   "execution_count": 12,
   "metadata": {},
   "outputs": [
    {
     "name": "stdout",
     "output_type": "stream",
     "text": [
      "origins\n",
      "13/06/2019                     1\n",
      "?                              1\n",
      "Afrique du Sud                 1\n",
      "Angleterre                     2\n",
      "Ardèche,France                 3\n",
      "                              ..\n",
      "Émirats arabes unis            4\n",
      "États-Unis                     2\n",
      "États-Unis, Brésil, Mexique    1\n",
      "États-unis                     2\n",
      "états-unis                     1\n",
      "Name: code, Length: 83, dtype: int64\n",
      "                        origins  code\n",
      "0                    13/06/2019     1\n",
      "1                             ?     1\n",
      "2                Afrique du Sud     1\n",
      "3                    Angleterre     2\n",
      "4                Ardèche,France     3\n",
      "..                          ...   ...\n",
      "78          Émirats arabes unis     4\n",
      "79                   États-Unis     2\n",
      "80  États-Unis, Brésil, Mexique     1\n",
      "81                   États-unis     2\n",
      "82                   états-unis     1\n",
      "\n",
      "[83 rows x 2 columns]\n"
     ]
    }
   ],
   "source": [
    "#\n",
    "# Jetons un oeil sur les origines des produits\n",
    "#\n",
    "all_origins = datafr.groupby('origins')['code'].count()\n",
    "# n_by_state.head(10)\n",
    "print(all_origins)\n",
    "# convertir l'index de la serie en colonne pour l'imprimer dans un fichier .csv\n",
    "origins_modified = all_origins.reset_index()\n",
    "print(origins_modified)\n",
    "# on enregistre dans un fichier .csv\n",
    "origins_modified.to_csv (r'fr.openfoodfacts.origins.csv', index = False, header=True)\n",
    "\n",
    "# conclusion: pas d'information pertinente"
   ]
  },
  {
   "cell_type": "code",
   "execution_count": 31,
   "metadata": {},
   "outputs": [
    {
     "data": {
      "text/plain": [
       "<seaborn.axisgrid.PairGrid at 0x4692910>"
      ]
     },
     "execution_count": 31,
     "metadata": {},
     "output_type": "execute_result"
    },
    {
     "data": {
      "text/plain": [
       "<Figure size 2304x864 with 0 Axes>"
      ]
     },
     "metadata": {},
     "output_type": "display_data"
    },
    {
     "data": {
      "image/png": "[encoded data removed]",
      "text/plain": [
       "<Figure size 180x180 with 1 Axes>"
      ]
     },
     "metadata": {
      "needs_background": "light"
     },
     "output_type": "display_data"
    }
   ],
   "source": [
    "#\n",
    "# Analyse bivariée préliminaire nutriscore_score et energy-kcal_100g\n",
    "#\n",
    "#\n",
    "%matplotlib inline\n",
    "\n",
    "plt.figure(figsize=(32, 12))\n",
    "\n",
    "sns.pairplot(datafr, x_vars=[\"nutriscore_score\"], y_vars=[\"energy-kcal_100g\"])\n"
   ]
  },
  {
   "cell_type": "code",
   "execution_count": 29,
   "metadata": {},
   "outputs": [
    {
     "data": {
      "text/plain": [
       "<seaborn.axisgrid.PairGrid at 0x46627d0>"
      ]
     },
     "execution_count": 29,
     "metadata": {},
     "output_type": "execute_result"
    },
    {
     "data": {
      "text/plain": [
       "<Figure size 2304x864 with 0 Axes>"
      ]
     },
     "metadata": {},
     "output_type": "display_data"
    },
    {
     "data": {
      "image/png": "[encoded data removed]",
      "text/plain": [
       "<Figure size 272.75x180 with 1 Axes>"
      ]
     },
     "metadata": {
      "needs_background": "light"
     },
     "output_type": "display_data"
    }
   ],
   "source": [
    "#\n",
    "# Analyse bivariée préliminaire nutriscore_grade et nutriscore_score\n",
    "#\n",
    "#\n",
    "%matplotlib inline\n",
    "plt.figure(figsize=(32, 12))\n",
    "sns.pairplot(datafr, x_vars=[\"nutriscore_grade\"],\n",
    "             y_vars=[\"nutriscore_score\"],\n",
    "             hue=\"nutriscore_grade\",\n",
    "             hue_order = ['a', 'b', 'c', 'd', 'e']\n",
    "            )"
   ]
  },
  {
   "cell_type": "code",
   "execution_count": 34,
   "metadata": {},
   "outputs": [
    {
     "data": {
      "text/plain": [
       "<seaborn.axisgrid.FacetGrid at 0xd9f3d10>"
      ]
     },
     "execution_count": 34,
     "metadata": {},
     "output_type": "execute_result"
    },
    {
     "data": {
      "image/png": "[encoded data removed]",
      "text/plain": [
       "<Figure size 452.75x360 with 1 Axes>"
      ]
     },
     "metadata": {
      "needs_background": "light"
     },
     "output_type": "display_data"
    }
   ],
   "source": [
    "#\n",
    "# Analyse bivariée préliminaire nutriscore_grade et energy-kcal_100g\n",
    "#\n",
    "#\n",
    "\n",
    "# sns.pairplot(datafr, x_vars=[\"nutriscore_grade\"], y_vars=[\"energy-kcal_100g\"])\n",
    "\n",
    "sns.lmplot(\"nutriscore_score\", \"energy-kcal_100g\", \n",
    "           datafr, \n",
    "           hue=\"nutriscore_grade\", \n",
    "           hue_order = ['a', 'b', 'c', 'd', 'e'],\n",
    "           fit_reg=False\n",
    "          )"
   ]
  },
  {
   "cell_type": "code",
   "execution_count": 43,
   "metadata": {},
   "outputs": [
    {
     "data": {
      "text/plain": [
       "(6540, 69)"
      ]
     },
     "execution_count": 43,
     "metadata": {},
     "output_type": "execute_result"
    }
   ],
   "source": [
    "datafr.shape"
   ]
  },
  {
   "cell_type": "code",
   "execution_count": 85,
   "metadata": {},
   "outputs": [
    {
     "name": "stdout",
     "output_type": "stream",
     "text": [
      "       ingredients_from_palm_oil_n  ingredients_that_may_be_from_palm_oil_n  \\\n",
      "count                   814.000000                               814.000000   \n",
      "mean                      0.044226                                 0.077396   \n",
      "std                       0.222940                                 0.301950   \n",
      "min                       0.000000                                 0.000000   \n",
      "25%                       0.000000                                 0.000000   \n",
      "50%                       0.000000                                 0.000000   \n",
      "75%                       0.000000                                 0.000000   \n",
      "max                       3.000000                                 3.000000   \n",
      "\n",
      "       nutriscore_score  nova_group  energy-kcal_100g  energy_100g  \\\n",
      "count               0.0  460.000000       3594.000000  3608.000000   \n",
      "mean                NaN    3.908696       1093.658319  1093.612040   \n",
      "std                 NaN    0.412668        809.962917   810.165219   \n",
      "min                 NaN    1.000000          0.000000     0.000000   \n",
      "25%                 NaN    4.000000        385.000000   384.000000   \n",
      "50%                 NaN    4.000000        962.000000   962.000000   \n",
      "75%                 NaN    4.000000       1715.000000  1715.000000   \n",
      "max                 NaN    4.000000       8142.000000  8142.000000   \n",
      "\n",
      "       energy-from-fat_100g     fat_100g  saturated-fat_100g  \\\n",
      "count                   0.0  3551.000000         3567.000000   \n",
      "mean                    NaN    11.692315            4.577985   \n",
      "std                     NaN    14.455250            7.050237   \n",
      "min                     NaN     0.000000            0.000000   \n",
      "25%                     NaN     0.800000            0.100000   \n",
      "50%                     NaN     6.000000            1.500000   \n",
      "75%                     NaN    18.150000            6.030000   \n",
      "max                     NaN   100.000000          100.000000   \n",
      "\n",
      "       monounsaturated-fat_100g  ...  zinc_100g  copper_100g  manganese_100g  \\\n",
      "count                 15.000000  ...   2.000000     5.000000        4.000000   \n",
      "mean                  13.077333  ...   0.014110     0.000867        0.001017   \n",
      "std                   12.121031  ...   0.017932     0.000457        0.000035   \n",
      "min                    0.000000  ...   0.001430     0.000286        0.001000   \n",
      "25%                    3.270000  ...   0.007770     0.000667        0.001000   \n",
      "50%                    7.780000  ...   0.014110     0.000714        0.001000   \n",
      "75%                   23.330000  ...   0.020450     0.001333        0.001017   \n",
      "max                   35.710000  ...   0.026790     0.001333        0.001070   \n",
      "\n",
      "       selenium_100g  caffeine_100g  fruits-vegetables-nuts_100g  \\\n",
      "count       1.000000            0.0                          0.0   \n",
      "mean        0.000033            NaN                          NaN   \n",
      "std              NaN            NaN                          NaN   \n",
      "min         0.000033            NaN                          NaN   \n",
      "25%         0.000033            NaN                          NaN   \n",
      "50%         0.000033            NaN                          NaN   \n",
      "75%         0.000033            NaN                          NaN   \n",
      "max         0.000033            NaN                          NaN   \n",
      "\n",
      "       fruits-vegetables-nuts-estimate_100g  cocoa_100g  \\\n",
      "count                                   0.0    2.000000   \n",
      "mean                                    NaN   65.000000   \n",
      "std                                     NaN   42.426407   \n",
      "min                                     NaN   35.000000   \n",
      "25%                                     NaN   50.000000   \n",
      "50%                                     NaN   65.000000   \n",
      "75%                                     NaN   80.000000   \n",
      "max                                     NaN   95.000000   \n",
      "\n",
      "       carbon-footprint-from-meat-or-fish_100g  nutrition-score-fr_100g  \n",
      "count                                 8.000000                      0.0  \n",
      "mean                                466.925000                      NaN  \n",
      "std                                 397.888465                      NaN  \n",
      "min                                  78.400000                      NaN  \n",
      "25%                                 136.400000                      NaN  \n",
      "50%                                 429.200000                      NaN  \n",
      "75%                                 660.450000                      NaN  \n",
      "max                                1217.000000                      NaN  \n",
      "\n",
      "[8 rows x 52 columns]\n"
     ]
    }
   ],
   "source": [
    "#\n",
    "# Analyse sur les produits qui n'ont pas de Nutriscore \n",
    "#\n",
    "score_null = datafr[datafr['nutriscore_grade'].isnull()]\n",
    "score_null.shape\n",
    "desc_null = score_null.describe()\n",
    "print(desc_null)\n"
   ]
  },
  {
   "cell_type": "code",
   "execution_count": 86,
   "metadata": {},
   "outputs": [
    {
     "name": "stdout",
     "output_type": "stream",
     "text": [
      "       ingredients_from_palm_oil_n  ingredients_that_may_be_from_palm_oil_n  \\\n",
      "count                  1021.000000                              1021.000000   \n",
      "mean                      0.072478                                 0.142997   \n",
      "std                       0.259405                                 0.459243   \n",
      "min                       0.000000                                 0.000000   \n",
      "25%                       0.000000                                 0.000000   \n",
      "50%                       0.000000                                 0.000000   \n",
      "75%                       0.000000                                 0.000000   \n",
      "max                       1.000000                                 4.000000   \n",
      "\n",
      "       nutriscore_score  nova_group  energy-kcal_100g  energy_100g  \\\n",
      "count       1685.000000  891.000000       1557.000000  1685.000000   \n",
      "mean          10.244510    3.471380       1185.473346  1201.211371   \n",
      "std            9.203404    0.886871        802.452975   808.538409   \n",
      "min          -12.000000    1.000000          0.000000     0.000000   \n",
      "25%            2.000000    3.000000        460.000000   460.000000   \n",
      "50%           11.000000    4.000000       1130.000000  1150.000000   \n",
      "75%           18.000000    4.000000       1845.000000  1900.000000   \n",
      "max           36.000000    4.000000       6251.000000  6251.000000   \n",
      "\n",
      "       energy-from-fat_100g     fat_100g  saturated-fat_100g  \\\n",
      "count             41.000000  1685.000000         1685.000000   \n",
      "mean             328.495122    13.627485            5.197253   \n",
      "std              411.492790    16.118619            7.379930   \n",
      "min                0.000000     0.000000            0.000000   \n",
      "25%               21.000000     0.800000            0.100000   \n",
      "50%              159.000000     7.140000            2.000000   \n",
      "75%              460.000000    22.500000            8.500000   \n",
      "max             1780.000000   100.000000           80.000000   \n",
      "\n",
      "       monounsaturated-fat_100g  ...  zinc_100g  copper_100g  manganese_100g  \\\n",
      "count                 47.000000  ...  12.000000     2.000000        3.000000   \n",
      "mean                   9.900426  ...   0.005978     0.000325        0.000540   \n",
      "std                   13.962960  ...   0.005057     0.000347        0.000441   \n",
      "min                    0.000000  ...   0.000450     0.000080        0.000120   \n",
      "25%                    1.245000  ...   0.002220     0.000203        0.000310   \n",
      "50%                    5.770000  ...   0.004835     0.000325        0.000500   \n",
      "75%                   12.350000  ...   0.008412     0.000448        0.000750   \n",
      "max                   73.330000  ...   0.013900     0.000571        0.001000   \n",
      "\n",
      "       selenium_100g  caffeine_100g  fruits-vegetables-nuts_100g  \\\n",
      "count       1.000000          1.000                    16.000000   \n",
      "mean        0.000009          0.058                    34.900000   \n",
      "std              NaN            NaN                    29.928359   \n",
      "min         0.000009          0.058                     0.000000   \n",
      "25%         0.000009          0.058                    21.750000   \n",
      "50%         0.000009          0.058                    28.500000   \n",
      "75%         0.000009          0.058                    41.000000   \n",
      "max         0.000009          0.058                   100.000000   \n",
      "\n",
      "       fruits-vegetables-nuts-estimate_100g  cocoa_100g  \\\n",
      "count                             44.000000   19.000000   \n",
      "mean                              44.318182   50.027368   \n",
      "std                               31.692155   24.126905   \n",
      "min                                7.000000    3.000000   \n",
      "25%                               17.000000   30.000000   \n",
      "50%                               39.500000   52.000000   \n",
      "75%                               58.550000   71.500000   \n",
      "max                              100.000000   78.000000   \n",
      "\n",
      "       carbon-footprint-from-meat-or-fish_100g  nutrition-score-fr_100g  \n",
      "count                                29.000000              1685.000000  \n",
      "mean                                625.129310                10.244510  \n",
      "std                                 733.565677                 9.203404  \n",
      "min                                  14.800000               -12.000000  \n",
      "25%                                 135.240000                 2.000000  \n",
      "50%                                 485.100000                11.000000  \n",
      "75%                                 710.400000                18.000000  \n",
      "max                                3580.000000                36.000000  \n",
      "\n",
      "[8 rows x 52 columns]\n"
     ]
    }
   ],
   "source": [
    "#\n",
    "# Analyse sur les produits qui ont de Nutriscore\n",
    "#\n",
    "score_notnull = datafr[datafr['nutriscore_grade'].notnull()]\n",
    "score_notnull.shape\n",
    "desc_notnull = score_notnull.describe()\n",
    "print(desc_notnull)"
   ]
  },
  {
   "cell_type": "code",
   "execution_count": 74,
   "metadata": {},
   "outputs": [
    {
     "data": {
      "text/plain": [
       "Index(['ingredients_from_palm_oil_n',\n",
       "       'ingredients_that_may_be_from_palm_oil_n', 'nutriscore_score',\n",
       "       'nova_group', 'energy-kcal_100g', 'energy_100g', 'energy-from-fat_100g',\n",
       "       'fat_100g', 'saturated-fat_100g', 'monounsaturated-fat_100g',\n",
       "       'polyunsaturated-fat_100g', 'omega-3-fat_100g', 'trans-fat_100g',\n",
       "       'cholesterol_100g', 'carbohydrates_100g', 'sugars_100g', 'starch_100g',\n",
       "       'polyols_100g', 'fiber_100g', 'proteins_100g', 'salt_100g',\n",
       "       'sodium_100g', 'alcohol_100g', 'vitamin-a_100g', 'vitamin-d_100g',\n",
       "       'vitamin-e_100g', 'vitamin-k_100g', 'vitamin-c_100g', 'vitamin-b1_100g',\n",
       "       'vitamin-b2_100g', 'vitamin-pp_100g', 'vitamin-b6_100g',\n",
       "       'vitamin-b9_100g', 'folates_100g', 'vitamin-b12_100g',\n",
       "       'pantothenic-acid_100g', 'bicarbonate_100g', 'potassium_100g',\n",
       "       'calcium_100g', 'phosphorus_100g', 'iron_100g', 'magnesium_100g',\n",
       "       'zinc_100g', 'copper_100g', 'manganese_100g', 'selenium_100g',\n",
       "       'caffeine_100g', 'fruits-vegetables-nuts_100g',\n",
       "       'fruits-vegetables-nuts-estimate_100g', 'cocoa_100g',\n",
       "       'carbon-footprint-from-meat-or-fish_100g', 'nutrition-score-fr_100g'],\n",
       "      dtype='object')"
      ]
     },
     "execution_count": 74,
     "metadata": {},
     "output_type": "execute_result"
    }
   ],
   "source": [
    "desc_null.columns"
   ]
  },
  {
   "cell_type": "code",
   "execution_count": 87,
   "metadata": {},
   "outputs": [
    {
     "data": {
      "text/html": [
       "<div>\n",
       "<style scoped>\n",
       "    .dataframe tbody tr th:only-of-type {\n",
       "        vertical-align: middle;\n",
       "    }\n",
       "\n",
       "    .dataframe tbody tr th {\n",
       "        vertical-align: top;\n",
       "    }\n",
       "\n",
       "    .dataframe thead th {\n",
       "        text-align: right;\n",
       "    }\n",
       "</style>\n",
       "<table border=\"1\" class=\"dataframe\">\n",
       "  <thead>\n",
       "    <tr style=\"text-align: right;\">\n",
       "      <th></th>\n",
       "      <th>energy-kcal_100g</th>\n",
       "      <th>saturated-fat_100g</th>\n",
       "      <th>sugars_100g</th>\n",
       "      <th>sodium_100g</th>\n",
       "      <th>fruits-vegetables-nuts_100g</th>\n",
       "      <th>fiber_100g</th>\n",
       "      <th>proteins_100g</th>\n",
       "    </tr>\n",
       "  </thead>\n",
       "  <tbody>\n",
       "    <tr>\n",
       "      <th>mean</th>\n",
       "      <td>1093.658319</td>\n",
       "      <td>4.577985</td>\n",
       "      <td>16.981723</td>\n",
       "      <td>1.040798</td>\n",
       "      <td>NaN</td>\n",
       "      <td>4.013032</td>\n",
       "      <td>6.563205</td>\n",
       "    </tr>\n",
       "    <tr>\n",
       "      <th>std</th>\n",
       "      <td>809.962917</td>\n",
       "      <td>7.050237</td>\n",
       "      <td>20.216231</td>\n",
       "      <td>16.300347</td>\n",
       "      <td>NaN</td>\n",
       "      <td>15.930662</td>\n",
       "      <td>8.246636</td>\n",
       "    </tr>\n",
       "    <tr>\n",
       "      <th>min</th>\n",
       "      <td>0.000000</td>\n",
       "      <td>0.000000</td>\n",
       "      <td>0.000000</td>\n",
       "      <td>0.000000</td>\n",
       "      <td>NaN</td>\n",
       "      <td>0.000000</td>\n",
       "      <td>0.000000</td>\n",
       "    </tr>\n",
       "    <tr>\n",
       "      <th>25%</th>\n",
       "      <td>385.000000</td>\n",
       "      <td>0.100000</td>\n",
       "      <td>1.700000</td>\n",
       "      <td>0.020000</td>\n",
       "      <td>NaN</td>\n",
       "      <td>0.500000</td>\n",
       "      <td>1.000000</td>\n",
       "    </tr>\n",
       "    <tr>\n",
       "      <th>50%</th>\n",
       "      <td>962.000000</td>\n",
       "      <td>1.500000</td>\n",
       "      <td>8.600000</td>\n",
       "      <td>0.160000</td>\n",
       "      <td>NaN</td>\n",
       "      <td>2.000000</td>\n",
       "      <td>4.800000</td>\n",
       "    </tr>\n",
       "    <tr>\n",
       "      <th>75%</th>\n",
       "      <td>1715.000000</td>\n",
       "      <td>6.030000</td>\n",
       "      <td>26.000000</td>\n",
       "      <td>0.400000</td>\n",
       "      <td>NaN</td>\n",
       "      <td>4.750000</td>\n",
       "      <td>9.000000</td>\n",
       "    </tr>\n",
       "    <tr>\n",
       "      <th>max</th>\n",
       "      <td>8142.000000</td>\n",
       "      <td>100.000000</td>\n",
       "      <td>100.000000</td>\n",
       "      <td>762.000000</td>\n",
       "      <td>NaN</td>\n",
       "      <td>375.000000</td>\n",
       "      <td>100.000000</td>\n",
       "    </tr>\n",
       "  </tbody>\n",
       "</table>\n",
       "</div>"
      ],
      "text/plain": [
       "      energy-kcal_100g  saturated-fat_100g  sugars_100g  sodium_100g  \\\n",
       "mean       1093.658319            4.577985    16.981723     1.040798   \n",
       "std         809.962917            7.050237    20.216231    16.300347   \n",
       "min           0.000000            0.000000     0.000000     0.000000   \n",
       "25%         385.000000            0.100000     1.700000     0.020000   \n",
       "50%         962.000000            1.500000     8.600000     0.160000   \n",
       "75%        1715.000000            6.030000    26.000000     0.400000   \n",
       "max        8142.000000          100.000000   100.000000   762.000000   \n",
       "\n",
       "      fruits-vegetables-nuts_100g  fiber_100g  proteins_100g  \n",
       "mean                          NaN    4.013032       6.563205  \n",
       "std                           NaN   15.930662       8.246636  \n",
       "min                           NaN    0.000000       0.000000  \n",
       "25%                           NaN    0.500000       1.000000  \n",
       "50%                           NaN    2.000000       4.800000  \n",
       "75%                           NaN    4.750000       9.000000  \n",
       "max                           NaN  375.000000     100.000000  "
      ]
     },
     "execution_count": 87,
     "metadata": {},
     "output_type": "execute_result"
    }
   ],
   "source": [
    "#\n",
    "# Comparaison statistiques entre produits avec nutriscore et sans nutriscore\n",
    "#\n",
    "\n",
    "desc_null.loc[['mean', 'std', 'min', '25%', '50%', '75%', 'max'], ['energy-kcal_100g', \n",
    "                 'saturated-fat_100g', \n",
    "                 'sugars_100g', \n",
    "                 'sodium_100g', \n",
    "                 'fruits-vegetables-nuts_100g',\n",
    "                 'fiber_100g',\n",
    "                 'proteins_100g'\n",
    "                ]]\n"
   ]
  },
  {
   "cell_type": "code",
   "execution_count": 88,
   "metadata": {},
   "outputs": [
    {
     "data": {
      "text/html": [
       "<div>\n",
       "<style scoped>\n",
       "    .dataframe tbody tr th:only-of-type {\n",
       "        vertical-align: middle;\n",
       "    }\n",
       "\n",
       "    .dataframe tbody tr th {\n",
       "        vertical-align: top;\n",
       "    }\n",
       "\n",
       "    .dataframe thead th {\n",
       "        text-align: right;\n",
       "    }\n",
       "</style>\n",
       "<table border=\"1\" class=\"dataframe\">\n",
       "  <thead>\n",
       "    <tr style=\"text-align: right;\">\n",
       "      <th></th>\n",
       "      <th>energy-kcal_100g</th>\n",
       "      <th>saturated-fat_100g</th>\n",
       "      <th>sugars_100g</th>\n",
       "      <th>sodium_100g</th>\n",
       "      <th>fruits-vegetables-nuts_100g</th>\n",
       "      <th>fiber_100g</th>\n",
       "      <th>proteins_100g</th>\n",
       "    </tr>\n",
       "  </thead>\n",
       "  <tbody>\n",
       "    <tr>\n",
       "      <th>mean</th>\n",
       "      <td>1185.473346</td>\n",
       "      <td>5.197253</td>\n",
       "      <td>17.084700</td>\n",
       "      <td>0.428090</td>\n",
       "      <td>34.900000</td>\n",
       "      <td>2.937675</td>\n",
       "      <td>6.880950</td>\n",
       "    </tr>\n",
       "    <tr>\n",
       "      <th>std</th>\n",
       "      <td>802.452975</td>\n",
       "      <td>7.379930</td>\n",
       "      <td>19.107307</td>\n",
       "      <td>1.207257</td>\n",
       "      <td>29.928359</td>\n",
       "      <td>4.178267</td>\n",
       "      <td>8.000283</td>\n",
       "    </tr>\n",
       "    <tr>\n",
       "      <th>min</th>\n",
       "      <td>0.000000</td>\n",
       "      <td>0.000000</td>\n",
       "      <td>0.000000</td>\n",
       "      <td>0.000000</td>\n",
       "      <td>0.000000</td>\n",
       "      <td>0.000000</td>\n",
       "      <td>0.000000</td>\n",
       "    </tr>\n",
       "    <tr>\n",
       "      <th>25%</th>\n",
       "      <td>460.000000</td>\n",
       "      <td>0.100000</td>\n",
       "      <td>2.400000</td>\n",
       "      <td>0.040000</td>\n",
       "      <td>21.750000</td>\n",
       "      <td>0.600000</td>\n",
       "      <td>1.200000</td>\n",
       "    </tr>\n",
       "    <tr>\n",
       "      <th>50%</th>\n",
       "      <td>1130.000000</td>\n",
       "      <td>2.000000</td>\n",
       "      <td>10.000000</td>\n",
       "      <td>0.186800</td>\n",
       "      <td>28.500000</td>\n",
       "      <td>1.900000</td>\n",
       "      <td>5.400000</td>\n",
       "    </tr>\n",
       "    <tr>\n",
       "      <th>75%</th>\n",
       "      <td>1845.000000</td>\n",
       "      <td>8.500000</td>\n",
       "      <td>26.100000</td>\n",
       "      <td>0.400000</td>\n",
       "      <td>41.000000</td>\n",
       "      <td>3.500000</td>\n",
       "      <td>8.700000</td>\n",
       "    </tr>\n",
       "    <tr>\n",
       "      <th>max</th>\n",
       "      <td>6251.000000</td>\n",
       "      <td>80.000000</td>\n",
       "      <td>100.000000</td>\n",
       "      <td>26.400000</td>\n",
       "      <td>100.000000</td>\n",
       "      <td>44.000000</td>\n",
       "      <td>76.300000</td>\n",
       "    </tr>\n",
       "  </tbody>\n",
       "</table>\n",
       "</div>"
      ],
      "text/plain": [
       "      energy-kcal_100g  saturated-fat_100g  sugars_100g  sodium_100g  \\\n",
       "mean       1185.473346            5.197253    17.084700     0.428090   \n",
       "std         802.452975            7.379930    19.107307     1.207257   \n",
       "min           0.000000            0.000000     0.000000     0.000000   \n",
       "25%         460.000000            0.100000     2.400000     0.040000   \n",
       "50%        1130.000000            2.000000    10.000000     0.186800   \n",
       "75%        1845.000000            8.500000    26.100000     0.400000   \n",
       "max        6251.000000           80.000000   100.000000    26.400000   \n",
       "\n",
       "      fruits-vegetables-nuts_100g  fiber_100g  proteins_100g  \n",
       "mean                    34.900000    2.937675       6.880950  \n",
       "std                     29.928359    4.178267       8.000283  \n",
       "min                      0.000000    0.000000       0.000000  \n",
       "25%                     21.750000    0.600000       1.200000  \n",
       "50%                     28.500000    1.900000       5.400000  \n",
       "75%                     41.000000    3.500000       8.700000  \n",
       "max                    100.000000   44.000000      76.300000  "
      ]
     },
     "execution_count": 88,
     "metadata": {},
     "output_type": "execute_result"
    }
   ],
   "source": [
    "desc_notnull.loc[['mean', 'std', 'min', '25%', '50%', '75%', 'max'], ['energy-kcal_100g', \n",
    "                 'saturated-fat_100g', \n",
    "                 'sugars_100g', \n",
    "                 'sodium_100g', \n",
    "                 'fruits-vegetables-nuts_100g',\n",
    "                 'fiber_100g',\n",
    "                 'proteins_100g'\n",
    "                ]]"
   ]
  },
  {
   "cell_type": "code",
   "execution_count": 103,
   "metadata": {},
   "outputs": [
    {
     "name": "stdout",
     "output_type": "stream",
     "text": [
      " 0.0     88\n",
      " 14.0    82\n",
      " 3.0     76\n",
      " 11.0    75\n",
      " 13.0    75\n",
      " 15.0    68\n",
      " 2.0     65\n",
      " 12.0    63\n",
      " 22.0    62\n",
      "-1.0     61\n",
      " 18.0    58\n",
      " 1.0     58\n",
      "-3.0     56\n",
      " 20.0    56\n",
      " 4.0     54\n",
      " 19.0    52\n",
      " 21.0    51\n",
      "-2.0     47\n",
      " 16.0    46\n",
      " 6.0     43\n",
      " 7.0     41\n",
      " 17.0    40\n",
      " 5.0     38\n",
      " 8.0     36\n",
      "-4.0     36\n",
      " 9.0     36\n",
      " 23.0    34\n",
      " 26.0    32\n",
      " 25.0    27\n",
      " 24.0    24\n",
      " 10.0    24\n",
      "-5.0     18\n",
      " 27.0    18\n",
      "-6.0     10\n",
      " 28.0     7\n",
      " 29.0     7\n",
      " 31.0     4\n",
      "-7.0      3\n",
      "-9.0      3\n",
      "-12.0     2\n",
      "-8.0      2\n",
      " 35.0     2\n",
      " 36.0     1\n",
      " 30.0     1\n",
      "-11.0     1\n",
      " 32.0     1\n",
      "-10.0     1\n",
      "Name: nutriscore_score, dtype: int64\n",
      "Float64Index([  0.0,  14.0,   3.0,  11.0,  13.0,  15.0,   2.0,  12.0,  22.0,\n",
      "               -1.0,  18.0,   1.0,  -3.0,  20.0,   4.0,  19.0,  21.0,  -2.0,\n",
      "               16.0,   6.0,   7.0,  17.0,   5.0,   8.0,  -4.0,   9.0,  23.0,\n",
      "               26.0,  25.0,  24.0,  10.0,  -5.0,  27.0,  -6.0,  28.0,  29.0,\n",
      "               31.0,  -7.0,  -9.0, -12.0,  -8.0,  35.0,  36.0,  30.0, -11.0,\n",
      "               32.0, -10.0],\n",
      "             dtype='float64')\n",
      "    nutriscore_score   n         f         F\n",
      "39             -12.0   2  0.001187  0.001187\n",
      "44             -11.0   1  0.000593  0.001780\n",
      "46             -10.0   1  0.000593  0.002374\n",
      "38              -9.0   3  0.001780  0.004154\n",
      "40              -8.0   2  0.001187  0.005341\n",
      "37              -7.0   3  0.001780  0.007122\n",
      "33              -6.0  10  0.005935  0.013056\n",
      "31              -5.0  18  0.010682  0.023739\n",
      "24              -4.0  36  0.021365  0.045104\n",
      "12              -3.0  56  0.033234  0.078338\n",
      "17              -2.0  47  0.027893  0.106231\n",
      "9               -1.0  61  0.036202  0.142433\n",
      "0                0.0  88  0.052226  0.194659\n",
      "11               1.0  58  0.034421  0.229080\n",
      "6                2.0  65  0.038576  0.267656\n",
      "2                3.0  76  0.045104  0.312760\n",
      "14               4.0  54  0.032047  0.344807\n",
      "22               5.0  38  0.022552  0.367359\n",
      "19               6.0  43  0.025519  0.392878\n",
      "20               7.0  41  0.024332  0.417211\n",
      "23               8.0  36  0.021365  0.438576\n",
      "25               9.0  36  0.021365  0.459941\n",
      "30              10.0  24  0.014243  0.474184\n",
      "3               11.0  75  0.044510  0.518694\n",
      "7               12.0  63  0.037389  0.556083\n",
      "4               13.0  75  0.044510  0.600593\n",
      "1               14.0  82  0.048665  0.649258\n",
      "5               15.0  68  0.040356  0.689614\n",
      "18              16.0  46  0.027300  0.716914\n",
      "21              17.0  40  0.023739  0.740653\n",
      "10              18.0  58  0.034421  0.775074\n",
      "15              19.0  52  0.030861  0.805935\n",
      "13              20.0  56  0.033234  0.839169\n",
      "16              21.0  51  0.030267  0.869436\n",
      "8               22.0  62  0.036795  0.906231\n",
      "26              23.0  34  0.020178  0.926409\n",
      "29              24.0  24  0.014243  0.940653\n",
      "28              25.0  27  0.016024  0.956677\n",
      "27              26.0  32  0.018991  0.975668\n",
      "32              27.0  18  0.010682  0.986350\n",
      "34              28.0   7  0.004154  0.990504\n",
      "35              29.0   7  0.004154  0.994659\n",
      "43              30.0   1  0.000593  0.995252\n",
      "36              31.0   4  0.002374  0.997626\n",
      "45              32.0   1  0.000593  0.998220\n",
      "41              35.0   2  0.001187  0.999407\n",
      "42              36.0   1  0.000593  1.000000\n"
     ]
    }
   ],
   "source": [
    "effectifs = datafr[\"nutriscore_score\"].value_counts()\n",
    "modalites = effectifs.index # l'index de effectifs contient les modalités\n",
    "#\n",
    "tab = pd.DataFrame(modalites, columns = [\"nutriscore_score\"]) # création du tableau à partir des modalités\n",
    "tab[\"n\"] = effectifs.values\n",
    "tab[\"f\"] = tab[\"n\"] / effectifs.sum() # effectifs.sum = total de produits avec Nutriscore\n",
    "tab = tab.sort_values(\"nutriscore_score\") # tri des valeurs de la variable X (croissant)\n",
    "tab[\"F\"] = tab[\"f\"].cumsum() # cumsum calcule la somme cumulée F: fréquences cumulées\n"
   ]
  },
  {
   "cell_type": "code",
   "execution_count": 107,
   "metadata": {},
   "outputs": [
    {
     "data": {
      "text/plain": [
       "<seaborn.axisgrid.PairGrid at 0xef129b0>"
      ]
     },
     "execution_count": 107,
     "metadata": {},
     "output_type": "execute_result"
    },
    {
     "data": {
      "image/png": "[encoded data removed]",
      "text/plain": [
       "<Figure size 180x180 with 1 Axes>"
      ]
     },
     "metadata": {},
     "output_type": "display_data"
    }
   ],
   "source": [
    "#\n",
    "#\n",
    "\n",
    "sns.pairplot(tab, x_vars=[\"nutriscore_score\"], y_vars=[\"n\"])\n",
    "\n",
    "# sns.lmplot(\"nutriscore_score\", \"f\", tab, hue=\"f\", fit_reg=False)"
   ]
  }
 ],
 "metadata": {
  "kernelspec": {
   "display_name": "Python 3",
   "language": "python",
   "name": "python3"
  },
  "language_info": {
   "codemirror_mode": {
    "name": "ipython",
    "version": 3
   },
   "file_extension": ".py",
   "mimetype": "text/x-python",
   "name": "python",
   "nbconvert_exporter": "python",
   "pygments_lexer": "ipython3",
   "version": "3.7.7"
  }
 },
 "nbformat": 4,
 "nbformat_minor": 4
}
